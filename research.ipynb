{
  "cells": [
    {
      "cell_type": "raw",
      "metadata": {},
      "source": [
        "---\n",
        "title: \"Research\"\n",
        "---"
      ],
      "id": "eebc9e94"
    },
    {
      "cell_type": "markdown",
      "metadata": {},
      "source": [
        "::: column-margin\n",
        "<br> <br> <br> <br> <br> <br>\n",
        "\n",
        "<center>  <img src=\"files/spathidium.svg\" width=\"200\"/></center>\n",
        "\n",
        "<br> <br> <br> <br> <br> <br>\n",
        "\n",
        "<center>  <img src=\"files/dexiostoma_campylum.svg\" width=\"180\"/></center>\n",
        ":::\n",
        "\n",
        "::: {layout-ncol=\"2\"}\n",
        "<a href=\"https://duriah.github.io/nowhere\" class=\"link-primary\"><img src=\"files/warmingfig1.jpg\" width=\"380\"/></a>\n",
        "\n",
        "\n",
        "```{html}\n",
        "<img src=\"files/warmingfig1.jpg\" width=\"380\">\n",
        "  <div class=”fadein”> </div>\n",
        "```\n",
        "\n",
        "\n",
        "<a href=\"https://duriah.github.io/nowhere\" class=\"link-primary\"><img src=\"files/PhdChp1Fig1.jpg\" width=\"380\"/></a>\n",
        ":::\n",
        "\n",
        "::: {layout-ncol=\"2\"}\n",
        "<a href=\"https://duriah.github.io/nowhere\" class=\"link-primary\"><img src=\"files/warmingfig1.jpg\" width=\"380\"/></a>\n",
        "\n",
        "<a href=\"https://duriah.github.io/nowhere\" class=\"link-primary\"><img src=\"files/PhdChp1Fig1.jpg\" width=\"380\"/></a>\n",
        ":::"
      ],
      "id": "4a67ae28"
    }
  ],
  "metadata": {
    "kernelspec": {
      "display_name": "Python 3",
      "language": "python",
      "name": "python3"
    }
  },
  "nbformat": 4,
  "nbformat_minor": 5
}